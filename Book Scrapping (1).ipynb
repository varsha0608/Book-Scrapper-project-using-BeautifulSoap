{
 "cells": [
  {
   "cell_type": "code",
   "execution_count": 7,
   "id": "0b021d65-70c4-4f63-a39c-545bb67b38cb",
   "metadata": {},
   "outputs": [
    {
     "name": "stdout",
     "output_type": "stream",
     "text": [
      "Scraping book details...\n",
      "Saved 20 books to books.csv\n"
     ]
    }
   ],
   "source": [
    "import requests\n",
    "from bs4 import BeautifulSoup\n",
    "import pandas as pd\n",
    "\n",
    "class BookScraper:\n",
    "    def __init__(self, base_url):\n",
    "        self.base_url = base_url\n",
    "        self.books = []\n",
    "\n",
    "    def scrape_books(self):\n",
    "        \"\"\"Scrapes book details from the website.\"\"\"\n",
    "        print(\"Scraping book details...\")\n",
    "        response = requests.get(self.base_url)\n",
    "\n",
    "        # Check if the request was successful\n",
    "        if response.status_code != 200:\n",
    "            print(f\"Failed to retrieve data: {response.status_code}\")\n",
    "            return\n",
    "\n",
    "        soup = BeautifulSoup(response.text, 'html.parser')\n",
    "\n",
    "        # Find all book elements\n",
    "        book_elements = soup.find_all('article', class_='product_pod')\n",
    "\n",
    "        for element in book_elements:\n",
    "            title = element.find('h3').find('a')['title']\n",
    "            price = element.find('p', class_='price_color').get_text(strip=True)\n",
    "            rating = element.find('p', class_='star-rating')['class'][1]  # Extracting the second class name for rating\n",
    "            \n",
    "            self.books.append({\n",
    "                'Book Title': title,\n",
    "                'Price': price,\n",
    "                'Rating': rating\n",
    "            })\n",
    "\n",
    "    def save_to_csv(self, filename):\n",
    "        \"\"\"Saves the scraped books to a CSV file.\"\"\"\n",
    "        df = pd.DataFrame(self.books)\n",
    "        df.to_csv(filename, index=False)\n",
    "        print(f\"Saved {len(self.books)} books to {filename}\")\n",
    "\n",
    "def main():\n",
    "    # Base URL of the books website\n",
    "    base_url = \"http://books.toscrape.com/\"\n",
    "    \n",
    "    # Initialize the BookScraper\n",
    "    scraper = BookScraper(base_url)\n",
    "\n",
    "    # Scrape book details from the website\n",
    "    scraper.scrape_books()\n",
    "\n",
    "    # Save the scraped books to a CSV file\n",
    "    scraper.save_to_csv(\"books.csv\")\n",
    "\n",
    "if __name__ == \"__main__\":\n",
    "    main()\n"
   ]
  },
  {
   "cell_type": "code",
   "execution_count": null,
   "id": "ddecc397-28ed-4cd4-8ca6-acf5aae3d795",
   "metadata": {},
   "outputs": [],
   "source": []
  }
 ],
 "metadata": {
  "kernelspec": {
   "display_name": "Python 3 (ipykernel)",
   "language": "python",
   "name": "python3"
  },
  "language_info": {
   "codemirror_mode": {
    "name": "ipython",
    "version": 3
   },
   "file_extension": ".py",
   "mimetype": "text/x-python",
   "name": "python",
   "nbconvert_exporter": "python",
   "pygments_lexer": "ipython3",
   "version": "3.12.4"
  }
 },
 "nbformat": 4,
 "nbformat_minor": 5
}
